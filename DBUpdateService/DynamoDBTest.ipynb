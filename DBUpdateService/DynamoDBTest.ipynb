{
 "cells": [
  {
   "cell_type": "code",
   "execution_count": 49,
   "metadata": {},
   "outputs": [],
   "source": [
    "import boto3\n",
    "from boto3.dynamodb.conditions import Key\n",
    "import json\n",
    "import ast"
   ]
  },
  {
   "cell_type": "code",
   "execution_count": 46,
   "metadata": {},
   "outputs": [],
   "source": [
    "table_name = \"DeveloperIQ\"\n",
    "primary_key_column_name = \"contributor_login\"\n",
    "columns = [\"contribution_stats\"]\n",
    "client  = boto3.client('dynamodb')\n",
    "DB = boto3.resource('dynamodb')\n",
    "table = DB.Table(table_name)"
   ]
  },
  {
   "cell_type": "markdown",
   "metadata": {},
   "source": [
    "## Get items from DB"
   ]
  },
  {
   "cell_type": "code",
   "execution_count": 47,
   "metadata": {},
   "outputs": [],
   "source": [
    "response = table.get_item(\n",
    "Key={\n",
    "    primary_key_column_name:\"tmbo\"\n",
    "}\n",
    ")"
   ]
  },
  {
   "cell_type": "code",
   "execution_count": 51,
   "metadata": {},
   "outputs": [
    {
     "data": {
      "text/plain": [
       "{'contribution_stats': {'month': {'commit_additions': Decimal('30'),\n",
       "   'num_commits': Decimal('1'),\n",
       "   'commit_deletions': Decimal('0'),\n",
       "   'issues_created': Decimal('0'),\n",
       "   'issues_comment_interactions': Decimal('0')},\n",
       "  'year': {'num_commits': Decimal('147'),\n",
       "   'commit_deletions': Decimal('60207'),\n",
       "   'commit_additons': Decimal('78974'),\n",
       "   'issues_created': Decimal('12'),\n",
       "   'issues_comment_interactions': Decimal('0')},\n",
       "  'week': {'commit_additions': Decimal('0'),\n",
       "   'num_commits': Decimal('0'),\n",
       "   'commit_deletions': Decimal('0'),\n",
       "   'issues_created': Decimal('0'),\n",
       "   'issues_comment_interactions': Decimal('0')}},\n",
       " 'contributor_login': 'tmbo'}"
      ]
     },
     "execution_count": 51,
     "metadata": {},
     "output_type": "execute_result"
    }
   ],
   "source": [
    "response['Item']"
   ]
  },
  {
   "cell_type": "code",
   "execution_count": 52,
   "metadata": {},
   "outputs": [],
   "source": [
    "# dir(table)"
   ]
  },
  {
   "cell_type": "markdown",
   "metadata": {},
   "source": [
    "## Update Database"
   ]
  },
  {
   "cell_type": "code",
   "execution_count": 53,
   "metadata": {},
   "outputs": [],
   "source": [
    "primary_key = \"tobias\"\n",
    "response = table.put_item(\n",
    "    Item={\n",
    "        primary_key_column_name:primary_key,\n",
    "        columns[0]: {'month': {'commit_additions': 30,\n",
    "   'num_commits': 1,\n",
    "   'commit_deletions': 0,\n",
    "   'issues_created': 0,\n",
    "   'issues_comment_interactions': 0},\n",
    "  'year': {'num_commits': 147,\n",
    "   'commit_deletions': 60207,\n",
    "   'commit_additons': 78974,\n",
    "   'issues_created': 12,\n",
    "   'issues_comment_interactions': 0},\n",
    "  'week': {'commit_additions': 0,\n",
    "   'num_commits': 0,\n",
    "   'commit_deletions': 0,\n",
    "   'issues_created': 0,\n",
    "   'issues_comment_interactions': 0}}\n",
    "    }\n",
    "\n",
    ")"
   ]
  },
  {
   "cell_type": "code",
   "execution_count": 54,
   "metadata": {},
   "outputs": [
    {
     "data": {
      "text/plain": [
       "200"
      ]
     },
     "execution_count": 54,
     "metadata": {},
     "output_type": "execute_result"
    }
   ],
   "source": [
    "response[\"ResponseMetadata\"][\"HTTPStatusCode\"]"
   ]
  },
  {
   "cell_type": "markdown",
   "metadata": {},
   "source": [
    "## Delete data from database"
   ]
  },
  {
   "cell_type": "code",
   "execution_count": 55,
   "metadata": {},
   "outputs": [],
   "source": [
    "primary_key = \"tobias\"\n",
    "response = table.delete_item(\n",
    "    Key={\n",
    "        primary_key_column_name : primary_key\n",
    "    }\n",
    ")"
   ]
  },
  {
   "cell_type": "code",
   "execution_count": 56,
   "metadata": {},
   "outputs": [
    {
     "data": {
      "text/plain": [
       "{'ResponseMetadata': {'RequestId': 'V0333CC6VJI2Q7HTNRHNEJ5JG7VV4KQNSO5AEMVJF66Q9ASUAAJG',\n",
       "  'HTTPStatusCode': 200,\n",
       "  'HTTPHeaders': {'server': 'Server',\n",
       "   'date': 'Tue, 13 Apr 2021 19:22:52 GMT',\n",
       "   'content-type': 'application/x-amz-json-1.0',\n",
       "   'content-length': '2',\n",
       "   'connection': 'keep-alive',\n",
       "   'x-amzn-requestid': 'V0333CC6VJI2Q7HTNRHNEJ5JG7VV4KQNSO5AEMVJF66Q9ASUAAJG',\n",
       "   'x-amz-crc32': '2745614147'},\n",
       "  'RetryAttempts': 0}}"
      ]
     },
     "execution_count": 56,
     "metadata": {},
     "output_type": "execute_result"
    }
   ],
   "source": [
    "response"
   ]
  },
  {
   "cell_type": "markdown",
   "metadata": {},
   "source": [
    "## Describe Method"
   ]
  },
  {
   "cell_type": "code",
   "execution_count": 57,
   "metadata": {},
   "outputs": [
    {
     "data": {
      "text/plain": [
       "{'Table': {'AttributeDefinitions': [{'AttributeName': 'contributor_login',\n",
       "    'AttributeType': 'S'}],\n",
       "  'TableName': 'DeveloperIQ',\n",
       "  'KeySchema': [{'AttributeName': 'contributor_login', 'KeyType': 'HASH'}],\n",
       "  'TableStatus': 'ACTIVE',\n",
       "  'CreationDateTime': datetime.datetime(2021, 4, 13, 14, 4, 2, 975000, tzinfo=tzlocal()),\n",
       "  'ProvisionedThroughput': {'NumberOfDecreasesToday': 0,\n",
       "   'ReadCapacityUnits': 5,\n",
       "   'WriteCapacityUnits': 5},\n",
       "  'TableSizeBytes': 735,\n",
       "  'ItemCount': 2,\n",
       "  'TableArn': 'arn:aws:dynamodb:us-east-1:952614855265:table/DeveloperIQ',\n",
       "  'TableId': 'a9a6decf-3822-4111-ad6d-811321a3c49b'},\n",
       " 'ResponseMetadata': {'RequestId': '6C4TQQODF6BL3GNUGEOJUU8QI7VV4KQNSO5AEMVJF66Q9ASUAAJG',\n",
       "  'HTTPStatusCode': 200,\n",
       "  'HTTPHeaders': {'server': 'Server',\n",
       "   'date': 'Tue, 13 Apr 2021 19:22:53 GMT',\n",
       "   'content-type': 'application/x-amz-json-1.0',\n",
       "   'content-length': '501',\n",
       "   'connection': 'keep-alive',\n",
       "   'x-amzn-requestid': '6C4TQQODF6BL3GNUGEOJUU8QI7VV4KQNSO5AEMVJF66Q9ASUAAJG',\n",
       "   'x-amz-crc32': '2233613403'},\n",
       "  'RetryAttempts': 0}}"
      ]
     },
     "execution_count": 57,
     "metadata": {},
     "output_type": "execute_result"
    }
   ],
   "source": [
    "response = client.describe_table(TableName=table_name)\n",
    "response"
   ]
  },
  {
   "cell_type": "markdown",
   "metadata": {},
   "source": [
    "## Query"
   ]
  },
  {
   "cell_type": "code",
   "execution_count": 58,
   "metadata": {},
   "outputs": [],
   "source": [
    "response = table.query(\n",
    "    KeyConditionExpression = Key('contributor_login').eq(\"wochinge\")\n",
    ")"
   ]
  },
  {
   "cell_type": "code",
   "execution_count": 59,
   "metadata": {},
   "outputs": [
    {
     "data": {
      "text/plain": [
       "1"
      ]
     },
     "execution_count": 59,
     "metadata": {},
     "output_type": "execute_result"
    }
   ],
   "source": [
    "len(response['Items'])"
   ]
  },
  {
   "cell_type": "markdown",
   "metadata": {},
   "source": [
    "## How to get all data from DynamoDB"
   ]
  },
  {
   "cell_type": "code",
   "execution_count": 60,
   "metadata": {},
   "outputs": [],
   "source": [
    "response = table.scan()"
   ]
  },
  {
   "cell_type": "code",
   "execution_count": 61,
   "metadata": {},
   "outputs": [
    {
     "data": {
      "text/plain": [
       "{'Items': [{'contribution_stats': {'month': {'commit_additions': Decimal('30'),\n",
       "     'num_commits': Decimal('1'),\n",
       "     'commit_deletions': Decimal('0'),\n",
       "     'issues_created': Decimal('0'),\n",
       "     'issues_comment_interactions': Decimal('0')},\n",
       "    'year': {'num_commits': Decimal('147'),\n",
       "     'commit_deletions': Decimal('60207'),\n",
       "     'commit_additons': Decimal('78974'),\n",
       "     'issues_created': Decimal('12'),\n",
       "     'issues_comment_interactions': Decimal('0')},\n",
       "    'week': {'commit_additions': Decimal('0'),\n",
       "     'num_commits': Decimal('0'),\n",
       "     'commit_deletions': Decimal('0'),\n",
       "     'issues_created': Decimal('0'),\n",
       "     'issues_comment_interactions': Decimal('0')}},\n",
       "   'contributor_login': 'wochinge'},\n",
       "  {'contribution_stats': {'month': {'commit_additions': Decimal('30'),\n",
       "     'num_commits': Decimal('1'),\n",
       "     'commit_deletions': Decimal('0'),\n",
       "     'issues_created': Decimal('0'),\n",
       "     'issues_comment_interactions': Decimal('0')},\n",
       "    'year': {'num_commits': Decimal('147'),\n",
       "     'commit_deletions': Decimal('60207'),\n",
       "     'commit_additons': Decimal('78974'),\n",
       "     'issues_created': Decimal('12'),\n",
       "     'issues_comment_interactions': Decimal('0')},\n",
       "    'week': {'commit_additions': Decimal('0'),\n",
       "     'num_commits': Decimal('0'),\n",
       "     'commit_deletions': Decimal('0'),\n",
       "     'issues_created': Decimal('0'),\n",
       "     'issues_comment_interactions': Decimal('0')}},\n",
       "   'contributor_login': 'tmbo'}],\n",
       " 'Count': 2,\n",
       " 'ScannedCount': 2,\n",
       " 'ResponseMetadata': {'RequestId': 'VOTPFBA4MRVA562E6N0ROOJSN3VV4KQNSO5AEMVJF66Q9ASUAAJG',\n",
       "  'HTTPStatusCode': 200,\n",
       "  'HTTPHeaders': {'server': 'Server',\n",
       "   'date': 'Tue, 13 Apr 2021 19:22:55 GMT',\n",
       "   'content-type': 'application/x-amz-json-1.0',\n",
       "   'content-length': '1178',\n",
       "   'connection': 'keep-alive',\n",
       "   'x-amzn-requestid': 'VOTPFBA4MRVA562E6N0ROOJSN3VV4KQNSO5AEMVJF66Q9ASUAAJG',\n",
       "   'x-amz-crc32': '3443342186'},\n",
       "  'RetryAttempts': 0}}"
      ]
     },
     "execution_count": 61,
     "metadata": {},
     "output_type": "execute_result"
    }
   ],
   "source": [
    "response"
   ]
  },
  {
   "cell_type": "code",
   "execution_count": 67,
   "metadata": {},
   "outputs": [],
   "source": [
    "import boto3\n",
    "import json\n",
    "import decimal\n",
    "from boto3.dynamodb.conditions import Key, Attr\n",
    "class DecimalEncoder(json.JSONEncoder):\n",
    "    def default(self, o):\n",
    "        if isinstance(o, decimal.Decimal):\n",
    "            return str(o)\n",
    "        if isinstance(o, set):  #<---resolving sets as lists\n",
    "            return list(o)\n",
    "        return super(DecimalEncoder, self).default(o)\n"
   ]
  },
  {
   "cell_type": "code",
   "execution_count": 70,
   "metadata": {},
   "outputs": [],
   "source": [
    "d = []\n",
    "for i in response['Items']:\n",
    "    d.append(ast.literal_eval((json.dumps(i, cls=DecimalEncoder))))"
   ]
  },
  {
   "cell_type": "code",
   "execution_count": 71,
   "metadata": {},
   "outputs": [
    {
     "data": {
      "text/plain": [
       "[{'contribution_stats': {'month': {'commit_additions': '30',\n",
       "    'num_commits': '1',\n",
       "    'commit_deletions': '0',\n",
       "    'issues_created': '0',\n",
       "    'issues_comment_interactions': '0'},\n",
       "   'year': {'num_commits': '147',\n",
       "    'commit_deletions': '60207',\n",
       "    'commit_additons': '78974',\n",
       "    'issues_created': '12',\n",
       "    'issues_comment_interactions': '0'},\n",
       "   'week': {'commit_additions': '0',\n",
       "    'num_commits': '0',\n",
       "    'commit_deletions': '0',\n",
       "    'issues_created': '0',\n",
       "    'issues_comment_interactions': '0'}},\n",
       "  'contributor_login': 'wochinge'},\n",
       " {'contribution_stats': {'month': {'commit_additions': '30',\n",
       "    'num_commits': '1',\n",
       "    'commit_deletions': '0',\n",
       "    'issues_created': '0',\n",
       "    'issues_comment_interactions': '0'},\n",
       "   'year': {'num_commits': '147',\n",
       "    'commit_deletions': '60207',\n",
       "    'commit_additons': '78974',\n",
       "    'issues_created': '12',\n",
       "    'issues_comment_interactions': '0'},\n",
       "   'week': {'commit_additions': '0',\n",
       "    'num_commits': '0',\n",
       "    'commit_deletions': '0',\n",
       "    'issues_created': '0',\n",
       "    'issues_comment_interactions': '0'}},\n",
       "  'contributor_login': 'tmbo'}]"
      ]
     },
     "execution_count": 71,
     "metadata": {},
     "output_type": "execute_result"
    }
   ],
   "source": [
    "d"
   ]
  },
  {
   "cell_type": "code",
   "execution_count": null,
   "metadata": {},
   "outputs": [],
   "source": []
  }
 ],
 "metadata": {
  "kernelspec": {
   "display_name": "AECS-Assignment",
   "language": "python",
   "name": "aecs-assignment"
  },
  "language_info": {
   "codemirror_mode": {
    "name": "ipython",
    "version": 3
   },
   "file_extension": ".py",
   "mimetype": "text/x-python",
   "name": "python",
   "nbconvert_exporter": "python",
   "pygments_lexer": "ipython3",
   "version": "3.8.5"
  }
 },
 "nbformat": 4,
 "nbformat_minor": 4
}
